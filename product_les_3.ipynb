{
 "cells": [
  {
   "cell_type": "markdown",
   "metadata": {},
   "source": [
    "\n",
    "Задание\n",
    "\n",
    "Вы работаете продуктовым аналитиком в компании по доставке продуктов на дом. Сервис доступен как в приложении на ios, так и на android. Вы настроили фронтовую аналитику в AppMetrica, и в конце квартала маркетинг-менеджер попросил вас проанализировать поведение пользователей, а также оценить эффективность каналов их привлечения. \n",
    "\n",
    "Вы выгрузили данные из AppMetrica за период с 1 января по 31 марта 2020, только по пользователям, зарегистрированным позднее 1 января 2020.\n",
    "\n",
    "Описание данных \n",
    "\n",
    "- date – дата совершения события\n",
    "- event - событие\n",
    "\n",
    "app_install – установка приложения\n",
    "app_start – открыть приложения\n",
    "registration – зарегистрироваться \n",
    "search – перейти на страницу поиска товаров (каталог)\n",
    "open_item – открыть товар\n",
    "choose_item – отправить товар в корзину\n",
    "tap_basket – перейти в корзину\n",
    "purchase – подтверждение покупки\n",
    "- gender – пол пользователя\n",
    "- os_name – платформа пользователя\n",
    "- city – город пользователя\n",
    "- device_id – идентификатор устройства пользователя\n",
    "- urm_source – канал, с которого пришел пользователь\n",
    "\n",
    "yandex-direct – Яндекс директ\n",
    "google_ads – реклама в Google\n",
    "vk_ads – реклама в ВК\n",
    "instagram_ads – реклама в instagram\n",
    "facebook_ads – реклама в facebook\n",
    "referral – акция «приведи друга»\n",
    "Если стоит ‘-’, то канал не определен или это скачивание приложения напрямую или посещение не с рекламы  \n",
    "- purchase_sum – стоимость покупки (при совершении события ‘purchase’)\n",
    "\n",
    "Обратите внимание на следующее:\n",
    "\n",
    "- В выгрузке только уникальные действия пользователей за каждый день \n",
    "- Можно миновать стадию установки приложения, если оно было установлено ранее\n",
    "- Можно миновать стадию регистрации, если пользователь был уже залогинен на момент сессии. Однако незарегистрированные пользователи не могут оформить покупку. "
   ]
  },
  {
   "cell_type": "code",
   "execution_count": 1,
   "metadata": {},
   "outputs": [],
   "source": [
    "import pandas as pd\n",
    "import seaborn as sns\n",
    "import matplotlib.pyplot as plt\n",
    "\n",
    "%matplotlib inline "
   ]
  },
  {
   "cell_type": "code",
   "execution_count": 2,
   "metadata": {},
   "outputs": [],
   "source": [
    "df = pd.read_csv('KC_case_data .csv')"
   ]
  },
  {
   "cell_type": "code",
   "execution_count": 3,
   "metadata": {},
   "outputs": [],
   "source": [
    "df.date = pd.to_datetime(df.date, dayfirst=True)"
   ]
  },
  {
   "cell_type": "code",
   "execution_count": 4,
   "metadata": {},
   "outputs": [],
   "source": [
    "df['year_month'] = pd.to_datetime(df.date).dt.to_period('M')"
   ]
  },
  {
   "cell_type": "code",
   "execution_count": 5,
   "metadata": {},
   "outputs": [
    {
     "data": {
      "text/html": [
       "<div>\n",
       "<style scoped>\n",
       "    .dataframe tbody tr th:only-of-type {\n",
       "        vertical-align: middle;\n",
       "    }\n",
       "\n",
       "    .dataframe tbody tr th {\n",
       "        vertical-align: top;\n",
       "    }\n",
       "\n",
       "    .dataframe thead th {\n",
       "        text-align: right;\n",
       "    }\n",
       "</style>\n",
       "<table border=\"1\" class=\"dataframe\">\n",
       "  <thead>\n",
       "    <tr style=\"text-align: right;\">\n",
       "      <th></th>\n",
       "      <th>date</th>\n",
       "      <th>event</th>\n",
       "      <th>purchase_sum</th>\n",
       "      <th>os_name</th>\n",
       "      <th>device_id</th>\n",
       "      <th>gender</th>\n",
       "      <th>city</th>\n",
       "      <th>utm_source</th>\n",
       "      <th>year_month</th>\n",
       "    </tr>\n",
       "  </thead>\n",
       "  <tbody>\n",
       "    <tr>\n",
       "      <th>0</th>\n",
       "      <td>2020-01-01</td>\n",
       "      <td>app_start</td>\n",
       "      <td>NaN</td>\n",
       "      <td>android</td>\n",
       "      <td>669460</td>\n",
       "      <td>female</td>\n",
       "      <td>Moscow</td>\n",
       "      <td>-</td>\n",
       "      <td>2020-01</td>\n",
       "    </tr>\n",
       "    <tr>\n",
       "      <th>1</th>\n",
       "      <td>2020-01-01</td>\n",
       "      <td>app_start</td>\n",
       "      <td>NaN</td>\n",
       "      <td>ios</td>\n",
       "      <td>833621</td>\n",
       "      <td>male</td>\n",
       "      <td>Moscow</td>\n",
       "      <td>vk_ads</td>\n",
       "      <td>2020-01</td>\n",
       "    </tr>\n",
       "    <tr>\n",
       "      <th>2</th>\n",
       "      <td>2020-01-01</td>\n",
       "      <td>app_start</td>\n",
       "      <td>NaN</td>\n",
       "      <td>android</td>\n",
       "      <td>1579237</td>\n",
       "      <td>male</td>\n",
       "      <td>Saint-Petersburg</td>\n",
       "      <td>referal</td>\n",
       "      <td>2020-01</td>\n",
       "    </tr>\n",
       "    <tr>\n",
       "      <th>3</th>\n",
       "      <td>2020-01-01</td>\n",
       "      <td>app_start</td>\n",
       "      <td>NaN</td>\n",
       "      <td>android</td>\n",
       "      <td>1737182</td>\n",
       "      <td>female</td>\n",
       "      <td>Moscow</td>\n",
       "      <td>facebook_ads</td>\n",
       "      <td>2020-01</td>\n",
       "    </tr>\n",
       "    <tr>\n",
       "      <th>4</th>\n",
       "      <td>2020-01-01</td>\n",
       "      <td>app_start</td>\n",
       "      <td>NaN</td>\n",
       "      <td>ios</td>\n",
       "      <td>4029024</td>\n",
       "      <td>female</td>\n",
       "      <td>Moscow</td>\n",
       "      <td>facebook_ads</td>\n",
       "      <td>2020-01</td>\n",
       "    </tr>\n",
       "  </tbody>\n",
       "</table>\n",
       "</div>"
      ],
      "text/plain": [
       "        date      event  purchase_sum  os_name  device_id  gender  \\\n",
       "0 2020-01-01  app_start           NaN  android     669460  female   \n",
       "1 2020-01-01  app_start           NaN      ios     833621    male   \n",
       "2 2020-01-01  app_start           NaN  android    1579237    male   \n",
       "3 2020-01-01  app_start           NaN  android    1737182  female   \n",
       "4 2020-01-01  app_start           NaN      ios    4029024  female   \n",
       "\n",
       "               city    utm_source year_month  \n",
       "0            Moscow             -    2020-01  \n",
       "1            Moscow        vk_ads    2020-01  \n",
       "2  Saint-Petersburg       referal    2020-01  \n",
       "3            Moscow  facebook_ads    2020-01  \n",
       "4            Moscow  facebook_ads    2020-01  "
      ]
     },
     "execution_count": 5,
     "metadata": {},
     "output_type": "execute_result"
    }
   ],
   "source": [
    "df.head()"
   ]
  },
  {
   "cell_type": "code",
   "execution_count": 6,
   "metadata": {},
   "outputs": [
    {
     "data": {
      "text/plain": [
       "app_start      748705\n",
       "search         708639\n",
       "choose_item    538669\n",
       "tap_basket     377665\n",
       "app_install    154597\n",
       "purchase       141383\n",
       "register        78310\n",
       "Name: event, dtype: int64"
      ]
     },
     "execution_count": 6,
     "metadata": {},
     "output_type": "execute_result"
    }
   ],
   "source": [
    "df['event'].value_counts()"
   ]
  },
  {
   "cell_type": "code",
   "execution_count": 7,
   "metadata": {},
   "outputs": [],
   "source": [
    "installs = df[df['event'] == 'app_install'][['date', 'device_id']]"
   ]
  },
  {
   "cell_type": "code",
   "execution_count": 8,
   "metadata": {
    "scrolled": true
   },
   "outputs": [
    {
     "data": {
      "text/html": [
       "<div>\n",
       "<style scoped>\n",
       "    .dataframe tbody tr th:only-of-type {\n",
       "        vertical-align: middle;\n",
       "    }\n",
       "\n",
       "    .dataframe tbody tr th {\n",
       "        vertical-align: top;\n",
       "    }\n",
       "\n",
       "    .dataframe thead th {\n",
       "        text-align: right;\n",
       "    }\n",
       "</style>\n",
       "<table border=\"1\" class=\"dataframe\">\n",
       "  <thead>\n",
       "    <tr style=\"text-align: right;\">\n",
       "      <th></th>\n",
       "      <th>date</th>\n",
       "      <th>device_id</th>\n",
       "    </tr>\n",
       "  </thead>\n",
       "  <tbody>\n",
       "    <tr>\n",
       "      <th>2515061</th>\n",
       "      <td>True</td>\n",
       "      <td>True</td>\n",
       "    </tr>\n",
       "    <tr>\n",
       "      <th>2515062</th>\n",
       "      <td>True</td>\n",
       "      <td>True</td>\n",
       "    </tr>\n",
       "    <tr>\n",
       "      <th>2515063</th>\n",
       "      <td>True</td>\n",
       "      <td>True</td>\n",
       "    </tr>\n",
       "    <tr>\n",
       "      <th>2515064</th>\n",
       "      <td>True</td>\n",
       "      <td>True</td>\n",
       "    </tr>\n",
       "    <tr>\n",
       "      <th>2515065</th>\n",
       "      <td>True</td>\n",
       "      <td>True</td>\n",
       "    </tr>\n",
       "    <tr>\n",
       "      <th>...</th>\n",
       "      <td>...</td>\n",
       "      <td>...</td>\n",
       "    </tr>\n",
       "    <tr>\n",
       "      <th>2669653</th>\n",
       "      <td>True</td>\n",
       "      <td>True</td>\n",
       "    </tr>\n",
       "    <tr>\n",
       "      <th>2669654</th>\n",
       "      <td>True</td>\n",
       "      <td>True</td>\n",
       "    </tr>\n",
       "    <tr>\n",
       "      <th>2669655</th>\n",
       "      <td>True</td>\n",
       "      <td>True</td>\n",
       "    </tr>\n",
       "    <tr>\n",
       "      <th>2669656</th>\n",
       "      <td>True</td>\n",
       "      <td>True</td>\n",
       "    </tr>\n",
       "    <tr>\n",
       "      <th>2669657</th>\n",
       "      <td>True</td>\n",
       "      <td>True</td>\n",
       "    </tr>\n",
       "  </tbody>\n",
       "</table>\n",
       "<p>154597 rows × 2 columns</p>\n",
       "</div>"
      ],
      "text/plain": [
       "         date  device_id\n",
       "2515061  True       True\n",
       "2515062  True       True\n",
       "2515063  True       True\n",
       "2515064  True       True\n",
       "2515065  True       True\n",
       "...       ...        ...\n",
       "2669653  True       True\n",
       "2669654  True       True\n",
       "2669655  True       True\n",
       "2669656  True       True\n",
       "2669657  True       True\n",
       "\n",
       "[154597 rows x 2 columns]"
      ]
     },
     "execution_count": 8,
     "metadata": {},
     "output_type": "execute_result"
    }
   ],
   "source": [
    "installs == installs.drop_duplicates('device_id')"
   ]
  },
  {
   "cell_type": "code",
   "execution_count": 9,
   "metadata": {},
   "outputs": [],
   "source": [
    "installs = installs.rename(columns = {'date': 'install_date'})"
   ]
  },
  {
   "cell_type": "code",
   "execution_count": 10,
   "metadata": {},
   "outputs": [],
   "source": [
    "#добавляем дату установки каждого пользователя в основной датафрейм\n",
    "df = df.merge(installs, how = 'left', on = 'device_id')"
   ]
  },
  {
   "cell_type": "code",
   "execution_count": 11,
   "metadata": {},
   "outputs": [
    {
     "data": {
      "text/html": [
       "<div>\n",
       "<style scoped>\n",
       "    .dataframe tbody tr th:only-of-type {\n",
       "        vertical-align: middle;\n",
       "    }\n",
       "\n",
       "    .dataframe tbody tr th {\n",
       "        vertical-align: top;\n",
       "    }\n",
       "\n",
       "    .dataframe thead th {\n",
       "        text-align: right;\n",
       "    }\n",
       "</style>\n",
       "<table border=\"1\" class=\"dataframe\">\n",
       "  <thead>\n",
       "    <tr style=\"text-align: right;\">\n",
       "      <th></th>\n",
       "      <th>date</th>\n",
       "      <th>event</th>\n",
       "      <th>purchase_sum</th>\n",
       "      <th>os_name</th>\n",
       "      <th>device_id</th>\n",
       "      <th>gender</th>\n",
       "      <th>city</th>\n",
       "      <th>utm_source</th>\n",
       "      <th>year_month</th>\n",
       "      <th>install_date</th>\n",
       "    </tr>\n",
       "  </thead>\n",
       "  <tbody>\n",
       "    <tr>\n",
       "      <th>0</th>\n",
       "      <td>2020-01-01</td>\n",
       "      <td>app_start</td>\n",
       "      <td>NaN</td>\n",
       "      <td>android</td>\n",
       "      <td>669460</td>\n",
       "      <td>female</td>\n",
       "      <td>Moscow</td>\n",
       "      <td>-</td>\n",
       "      <td>2020-01</td>\n",
       "      <td>2020-01-01</td>\n",
       "    </tr>\n",
       "    <tr>\n",
       "      <th>1</th>\n",
       "      <td>2020-01-01</td>\n",
       "      <td>app_start</td>\n",
       "      <td>NaN</td>\n",
       "      <td>ios</td>\n",
       "      <td>833621</td>\n",
       "      <td>male</td>\n",
       "      <td>Moscow</td>\n",
       "      <td>vk_ads</td>\n",
       "      <td>2020-01</td>\n",
       "      <td>2020-01-01</td>\n",
       "    </tr>\n",
       "    <tr>\n",
       "      <th>2</th>\n",
       "      <td>2020-01-01</td>\n",
       "      <td>app_start</td>\n",
       "      <td>NaN</td>\n",
       "      <td>android</td>\n",
       "      <td>1579237</td>\n",
       "      <td>male</td>\n",
       "      <td>Saint-Petersburg</td>\n",
       "      <td>referal</td>\n",
       "      <td>2020-01</td>\n",
       "      <td>NaT</td>\n",
       "    </tr>\n",
       "    <tr>\n",
       "      <th>3</th>\n",
       "      <td>2020-01-01</td>\n",
       "      <td>app_start</td>\n",
       "      <td>NaN</td>\n",
       "      <td>android</td>\n",
       "      <td>1737182</td>\n",
       "      <td>female</td>\n",
       "      <td>Moscow</td>\n",
       "      <td>facebook_ads</td>\n",
       "      <td>2020-01</td>\n",
       "      <td>2020-01-01</td>\n",
       "    </tr>\n",
       "    <tr>\n",
       "      <th>4</th>\n",
       "      <td>2020-01-01</td>\n",
       "      <td>app_start</td>\n",
       "      <td>NaN</td>\n",
       "      <td>ios</td>\n",
       "      <td>4029024</td>\n",
       "      <td>female</td>\n",
       "      <td>Moscow</td>\n",
       "      <td>facebook_ads</td>\n",
       "      <td>2020-01</td>\n",
       "      <td>2020-01-01</td>\n",
       "    </tr>\n",
       "    <tr>\n",
       "      <th>...</th>\n",
       "      <td>...</td>\n",
       "      <td>...</td>\n",
       "      <td>...</td>\n",
       "      <td>...</td>\n",
       "      <td>...</td>\n",
       "      <td>...</td>\n",
       "      <td>...</td>\n",
       "      <td>...</td>\n",
       "      <td>...</td>\n",
       "      <td>...</td>\n",
       "    </tr>\n",
       "    <tr>\n",
       "      <th>2747963</th>\n",
       "      <td>2020-03-31</td>\n",
       "      <td>register</td>\n",
       "      <td>NaN</td>\n",
       "      <td>android</td>\n",
       "      <td>2984778</td>\n",
       "      <td>male</td>\n",
       "      <td>Saint-Petersburg</td>\n",
       "      <td>facebook_ads</td>\n",
       "      <td>2020-03</td>\n",
       "      <td>2020-03-28</td>\n",
       "    </tr>\n",
       "    <tr>\n",
       "      <th>2747964</th>\n",
       "      <td>2020-03-31</td>\n",
       "      <td>register</td>\n",
       "      <td>NaN</td>\n",
       "      <td>ios</td>\n",
       "      <td>27301864</td>\n",
       "      <td>male</td>\n",
       "      <td>Moscow</td>\n",
       "      <td>-</td>\n",
       "      <td>2020-03</td>\n",
       "      <td>2020-03-31</td>\n",
       "    </tr>\n",
       "    <tr>\n",
       "      <th>2747965</th>\n",
       "      <td>2020-03-31</td>\n",
       "      <td>register</td>\n",
       "      <td>NaN</td>\n",
       "      <td>ios</td>\n",
       "      <td>1294285</td>\n",
       "      <td>female</td>\n",
       "      <td>Saint-Petersburg</td>\n",
       "      <td>google_ads</td>\n",
       "      <td>2020-03</td>\n",
       "      <td>2020-03-31</td>\n",
       "    </tr>\n",
       "    <tr>\n",
       "      <th>2747966</th>\n",
       "      <td>2020-03-31</td>\n",
       "      <td>register</td>\n",
       "      <td>NaN</td>\n",
       "      <td>android</td>\n",
       "      <td>3010574</td>\n",
       "      <td>female</td>\n",
       "      <td>Saint-Petersburg</td>\n",
       "      <td>google_ads</td>\n",
       "      <td>2020-03</td>\n",
       "      <td>2020-03-06</td>\n",
       "    </tr>\n",
       "    <tr>\n",
       "      <th>2747967</th>\n",
       "      <td>2020-03-31</td>\n",
       "      <td>register</td>\n",
       "      <td>NaN</td>\n",
       "      <td>android</td>\n",
       "      <td>11153353</td>\n",
       "      <td>female</td>\n",
       "      <td>Saint-Petersburg</td>\n",
       "      <td>-</td>\n",
       "      <td>2020-03</td>\n",
       "      <td>2020-03-31</td>\n",
       "    </tr>\n",
       "  </tbody>\n",
       "</table>\n",
       "<p>2747968 rows × 10 columns</p>\n",
       "</div>"
      ],
      "text/plain": [
       "              date      event  purchase_sum  os_name  device_id  gender  \\\n",
       "0       2020-01-01  app_start           NaN  android     669460  female   \n",
       "1       2020-01-01  app_start           NaN      ios     833621    male   \n",
       "2       2020-01-01  app_start           NaN  android    1579237    male   \n",
       "3       2020-01-01  app_start           NaN  android    1737182  female   \n",
       "4       2020-01-01  app_start           NaN      ios    4029024  female   \n",
       "...            ...        ...           ...      ...        ...     ...   \n",
       "2747963 2020-03-31   register           NaN  android    2984778    male   \n",
       "2747964 2020-03-31   register           NaN      ios   27301864    male   \n",
       "2747965 2020-03-31   register           NaN      ios    1294285  female   \n",
       "2747966 2020-03-31   register           NaN  android    3010574  female   \n",
       "2747967 2020-03-31   register           NaN  android   11153353  female   \n",
       "\n",
       "                     city    utm_source year_month install_date  \n",
       "0                  Moscow             -    2020-01   2020-01-01  \n",
       "1                  Moscow        vk_ads    2020-01   2020-01-01  \n",
       "2        Saint-Petersburg       referal    2020-01          NaT  \n",
       "3                  Moscow  facebook_ads    2020-01   2020-01-01  \n",
       "4                  Moscow  facebook_ads    2020-01   2020-01-01  \n",
       "...                   ...           ...        ...          ...  \n",
       "2747963  Saint-Petersburg  facebook_ads    2020-03   2020-03-28  \n",
       "2747964            Moscow             -    2020-03   2020-03-31  \n",
       "2747965  Saint-Petersburg    google_ads    2020-03   2020-03-31  \n",
       "2747966  Saint-Petersburg    google_ads    2020-03   2020-03-06  \n",
       "2747967  Saint-Petersburg             -    2020-03   2020-03-31  \n",
       "\n",
       "[2747968 rows x 10 columns]"
      ]
     },
     "execution_count": 11,
     "metadata": {},
     "output_type": "execute_result"
    }
   ],
   "source": [
    "df"
   ]
  },
  {
   "cell_type": "code",
   "execution_count": 39,
   "metadata": {},
   "outputs": [],
   "source": [
    "#считаем первую дату покупки\n",
    "purchases = df[df['event'] == 'purchase'][['date', 'device_id']]\n",
    "purchases = purchases.rename(columns = {'date': 'first_purchase_date'})"
   ]
  },
  {
   "cell_type": "code",
   "execution_count": 13,
   "metadata": {},
   "outputs": [],
   "source": [
    "purchases = purchases.drop_duplicates('device_id')"
   ]
  },
  {
   "cell_type": "code",
   "execution_count": 14,
   "metadata": {},
   "outputs": [],
   "source": [
    "df = df.merge(purchases, how = 'left', on = 'device_id')"
   ]
  },
  {
   "cell_type": "code",
   "execution_count": 15,
   "metadata": {},
   "outputs": [
    {
     "data": {
      "text/html": [
       "<div>\n",
       "<style scoped>\n",
       "    .dataframe tbody tr th:only-of-type {\n",
       "        vertical-align: middle;\n",
       "    }\n",
       "\n",
       "    .dataframe tbody tr th {\n",
       "        vertical-align: top;\n",
       "    }\n",
       "\n",
       "    .dataframe thead th {\n",
       "        text-align: right;\n",
       "    }\n",
       "</style>\n",
       "<table border=\"1\" class=\"dataframe\">\n",
       "  <thead>\n",
       "    <tr style=\"text-align: right;\">\n",
       "      <th></th>\n",
       "      <th>date</th>\n",
       "      <th>event</th>\n",
       "      <th>purchase_sum</th>\n",
       "      <th>os_name</th>\n",
       "      <th>device_id</th>\n",
       "      <th>gender</th>\n",
       "      <th>city</th>\n",
       "      <th>utm_source</th>\n",
       "      <th>year_month</th>\n",
       "      <th>install_date</th>\n",
       "      <th>first_purchase_date</th>\n",
       "    </tr>\n",
       "  </thead>\n",
       "  <tbody>\n",
       "    <tr>\n",
       "      <th>0</th>\n",
       "      <td>2020-01-01</td>\n",
       "      <td>app_start</td>\n",
       "      <td>NaN</td>\n",
       "      <td>android</td>\n",
       "      <td>669460</td>\n",
       "      <td>female</td>\n",
       "      <td>Moscow</td>\n",
       "      <td>-</td>\n",
       "      <td>2020-01</td>\n",
       "      <td>2020-01-01</td>\n",
       "      <td>2020-01-07</td>\n",
       "    </tr>\n",
       "    <tr>\n",
       "      <th>1</th>\n",
       "      <td>2020-01-01</td>\n",
       "      <td>app_start</td>\n",
       "      <td>NaN</td>\n",
       "      <td>ios</td>\n",
       "      <td>833621</td>\n",
       "      <td>male</td>\n",
       "      <td>Moscow</td>\n",
       "      <td>vk_ads</td>\n",
       "      <td>2020-01</td>\n",
       "      <td>2020-01-01</td>\n",
       "      <td>2020-01-01</td>\n",
       "    </tr>\n",
       "    <tr>\n",
       "      <th>2</th>\n",
       "      <td>2020-01-01</td>\n",
       "      <td>app_start</td>\n",
       "      <td>NaN</td>\n",
       "      <td>android</td>\n",
       "      <td>1579237</td>\n",
       "      <td>male</td>\n",
       "      <td>Saint-Petersburg</td>\n",
       "      <td>referal</td>\n",
       "      <td>2020-01</td>\n",
       "      <td>NaT</td>\n",
       "      <td>2020-01-01</td>\n",
       "    </tr>\n",
       "    <tr>\n",
       "      <th>3</th>\n",
       "      <td>2020-01-01</td>\n",
       "      <td>app_start</td>\n",
       "      <td>NaN</td>\n",
       "      <td>android</td>\n",
       "      <td>1737182</td>\n",
       "      <td>female</td>\n",
       "      <td>Moscow</td>\n",
       "      <td>facebook_ads</td>\n",
       "      <td>2020-01</td>\n",
       "      <td>2020-01-01</td>\n",
       "      <td>NaT</td>\n",
       "    </tr>\n",
       "    <tr>\n",
       "      <th>4</th>\n",
       "      <td>2020-01-01</td>\n",
       "      <td>app_start</td>\n",
       "      <td>NaN</td>\n",
       "      <td>ios</td>\n",
       "      <td>4029024</td>\n",
       "      <td>female</td>\n",
       "      <td>Moscow</td>\n",
       "      <td>facebook_ads</td>\n",
       "      <td>2020-01</td>\n",
       "      <td>2020-01-01</td>\n",
       "      <td>NaT</td>\n",
       "    </tr>\n",
       "    <tr>\n",
       "      <th>...</th>\n",
       "      <td>...</td>\n",
       "      <td>...</td>\n",
       "      <td>...</td>\n",
       "      <td>...</td>\n",
       "      <td>...</td>\n",
       "      <td>...</td>\n",
       "      <td>...</td>\n",
       "      <td>...</td>\n",
       "      <td>...</td>\n",
       "      <td>...</td>\n",
       "      <td>...</td>\n",
       "    </tr>\n",
       "    <tr>\n",
       "      <th>2747963</th>\n",
       "      <td>2020-03-31</td>\n",
       "      <td>register</td>\n",
       "      <td>NaN</td>\n",
       "      <td>android</td>\n",
       "      <td>2984778</td>\n",
       "      <td>male</td>\n",
       "      <td>Saint-Petersburg</td>\n",
       "      <td>facebook_ads</td>\n",
       "      <td>2020-03</td>\n",
       "      <td>2020-03-28</td>\n",
       "      <td>2020-03-31</td>\n",
       "    </tr>\n",
       "    <tr>\n",
       "      <th>2747964</th>\n",
       "      <td>2020-03-31</td>\n",
       "      <td>register</td>\n",
       "      <td>NaN</td>\n",
       "      <td>ios</td>\n",
       "      <td>27301864</td>\n",
       "      <td>male</td>\n",
       "      <td>Moscow</td>\n",
       "      <td>-</td>\n",
       "      <td>2020-03</td>\n",
       "      <td>2020-03-31</td>\n",
       "      <td>2020-03-31</td>\n",
       "    </tr>\n",
       "    <tr>\n",
       "      <th>2747965</th>\n",
       "      <td>2020-03-31</td>\n",
       "      <td>register</td>\n",
       "      <td>NaN</td>\n",
       "      <td>ios</td>\n",
       "      <td>1294285</td>\n",
       "      <td>female</td>\n",
       "      <td>Saint-Petersburg</td>\n",
       "      <td>google_ads</td>\n",
       "      <td>2020-03</td>\n",
       "      <td>2020-03-31</td>\n",
       "      <td>2020-03-31</td>\n",
       "    </tr>\n",
       "    <tr>\n",
       "      <th>2747966</th>\n",
       "      <td>2020-03-31</td>\n",
       "      <td>register</td>\n",
       "      <td>NaN</td>\n",
       "      <td>android</td>\n",
       "      <td>3010574</td>\n",
       "      <td>female</td>\n",
       "      <td>Saint-Petersburg</td>\n",
       "      <td>google_ads</td>\n",
       "      <td>2020-03</td>\n",
       "      <td>2020-03-06</td>\n",
       "      <td>2020-03-31</td>\n",
       "    </tr>\n",
       "    <tr>\n",
       "      <th>2747967</th>\n",
       "      <td>2020-03-31</td>\n",
       "      <td>register</td>\n",
       "      <td>NaN</td>\n",
       "      <td>android</td>\n",
       "      <td>11153353</td>\n",
       "      <td>female</td>\n",
       "      <td>Saint-Petersburg</td>\n",
       "      <td>-</td>\n",
       "      <td>2020-03</td>\n",
       "      <td>2020-03-31</td>\n",
       "      <td>2020-03-31</td>\n",
       "    </tr>\n",
       "  </tbody>\n",
       "</table>\n",
       "<p>2747968 rows × 11 columns</p>\n",
       "</div>"
      ],
      "text/plain": [
       "              date      event  purchase_sum  os_name  device_id  gender  \\\n",
       "0       2020-01-01  app_start           NaN  android     669460  female   \n",
       "1       2020-01-01  app_start           NaN      ios     833621    male   \n",
       "2       2020-01-01  app_start           NaN  android    1579237    male   \n",
       "3       2020-01-01  app_start           NaN  android    1737182  female   \n",
       "4       2020-01-01  app_start           NaN      ios    4029024  female   \n",
       "...            ...        ...           ...      ...        ...     ...   \n",
       "2747963 2020-03-31   register           NaN  android    2984778    male   \n",
       "2747964 2020-03-31   register           NaN      ios   27301864    male   \n",
       "2747965 2020-03-31   register           NaN      ios    1294285  female   \n",
       "2747966 2020-03-31   register           NaN  android    3010574  female   \n",
       "2747967 2020-03-31   register           NaN  android   11153353  female   \n",
       "\n",
       "                     city    utm_source year_month install_date  \\\n",
       "0                  Moscow             -    2020-01   2020-01-01   \n",
       "1                  Moscow        vk_ads    2020-01   2020-01-01   \n",
       "2        Saint-Petersburg       referal    2020-01          NaT   \n",
       "3                  Moscow  facebook_ads    2020-01   2020-01-01   \n",
       "4                  Moscow  facebook_ads    2020-01   2020-01-01   \n",
       "...                   ...           ...        ...          ...   \n",
       "2747963  Saint-Petersburg  facebook_ads    2020-03   2020-03-28   \n",
       "2747964            Moscow             -    2020-03   2020-03-31   \n",
       "2747965  Saint-Petersburg    google_ads    2020-03   2020-03-31   \n",
       "2747966  Saint-Petersburg    google_ads    2020-03   2020-03-06   \n",
       "2747967  Saint-Petersburg             -    2020-03   2020-03-31   \n",
       "\n",
       "        first_purchase_date  \n",
       "0                2020-01-07  \n",
       "1                2020-01-01  \n",
       "2                2020-01-01  \n",
       "3                       NaT  \n",
       "4                       NaT  \n",
       "...                     ...  \n",
       "2747963          2020-03-31  \n",
       "2747964          2020-03-31  \n",
       "2747965          2020-03-31  \n",
       "2747966          2020-03-31  \n",
       "2747967          2020-03-31  \n",
       "\n",
       "[2747968 rows x 11 columns]"
      ]
     },
     "execution_count": 15,
     "metadata": {},
     "output_type": "execute_result"
    }
   ],
   "source": [
    "df"
   ]
  },
  {
   "cell_type": "code",
   "execution_count": 15,
   "metadata": {},
   "outputs": [],
   "source": [
    "df.to_csv('df.csv', index=False)"
   ]
  },
  {
   "cell_type": "markdown",
   "metadata": {},
   "source": [
    "Retention в Табло\n",
    "https://public.tableau.com/app/profile/victoriia5838/viz/BookRet/Dashboard1"
   ]
  },
  {
   "cell_type": "markdown",
   "metadata": {},
   "source": [
    "Пользователи, пришедшие с каких каналов, показали самую низкую конверсию в первую покупку?\n",
    "\n",
    "В ответ впишите один из каналов в таком формате: «Яндекс», «Гугл», «ВК», «Фейсбук», «Инстаграм», «Реферальная программа»."
   ]
  },
  {
   "cell_type": "markdown",
   "metadata": {},
   "source": [
    "https://public.tableau.com/app/profile/victoriia5838/viz/BookRet/Dashboard1"
   ]
  },
  {
   "cell_type": "markdown",
   "metadata": {},
   "source": [
    "Проанализируйте на каком этапе воронки отваливается бОльшая часть клиентов. Посмотрите отдельно сценарии для зарегистрированных и для незарегистрированных пользователей. На каком шаге отваливается больше всего зарегистрированных пользователей?\n",
    "\n",
    "В ответ впишите один из шагов, конверсия из которого (в следующий шаг) самая низкая, в таком формате: «Поиск», «Добавление товара», «Переход в корзину», «Регистрация»."
   ]
  },
  {
   "cell_type": "code",
   "execution_count": 16,
   "metadata": {},
   "outputs": [],
   "source": [
    "first_registration = df[df['event'] == 'register'].sort_values('date').drop_duplicates('device_id')"
   ]
  },
  {
   "cell_type": "code",
   "execution_count": 17,
   "metadata": {},
   "outputs": [],
   "source": [
    "df['first_registration'] = df['device_id'].map(first_registration.set_index('device_id')['date'])"
   ]
  },
  {
   "cell_type": "code",
   "execution_count": 18,
   "metadata": {},
   "outputs": [
    {
     "data": {
      "text/plain": [
       "0   2020-01-07\n",
       "1   2020-01-01\n",
       "2   2020-01-01\n",
       "3   2020-01-01\n",
       "4          NaT\n",
       "Name: first_registration, dtype: datetime64[ns]"
      ]
     },
     "execution_count": 18,
     "metadata": {},
     "output_type": "execute_result"
    }
   ],
   "source": [
    "df['first_registration'].head()"
   ]
  },
  {
   "cell_type": "code",
   "execution_count": 19,
   "metadata": {},
   "outputs": [],
   "source": [
    "alredy_reg = df[df['first_registration'] < df['date']]"
   ]
  },
  {
   "cell_type": "code",
   "execution_count": 20,
   "metadata": {},
   "outputs": [
    {
     "data": {
      "text/plain": [
       "event\n",
       "app_start      40991\n",
       "choose_item    37926\n",
       "purchase       24880\n",
       "search         40482\n",
       "tap_basket     34517\n",
       "Name: device_id, dtype: int64"
      ]
     },
     "execution_count": 20,
     "metadata": {},
     "output_type": "execute_result"
    }
   ],
   "source": [
    "alredy_reg.groupby('event')['device_id'].nunique()"
   ]
  },
  {
   "cell_type": "code",
   "execution_count": 34,
   "metadata": {},
   "outputs": [
    {
     "name": "stdout",
     "output_type": "stream",
     "text": [
      "Конверсия в поиск из открытия 98.76\n"
     ]
    }
   ],
   "source": [
    "print('Конверсия в поиск из открытия', round((40482/40991)* 100, 2))"
   ]
  },
  {
   "cell_type": "code",
   "execution_count": 35,
   "metadata": {},
   "outputs": [
    {
     "name": "stdout",
     "output_type": "stream",
     "text": [
      "Конверсия в добавление товара из поиска 93.69\n"
     ]
    }
   ],
   "source": [
    "print('Конверсия в добавление товара из поиска', round((37926/40482)* 100, 2))"
   ]
  },
  {
   "cell_type": "code",
   "execution_count": 36,
   "metadata": {},
   "outputs": [
    {
     "name": "stdout",
     "output_type": "stream",
     "text": [
      "Конверсия из добавления в переход в корзину 91.01\n"
     ]
    }
   ],
   "source": [
    "print('Конверсия из добавления в переход в корзину', round((34517/37926)* 100, 2))"
   ]
  },
  {
   "cell_type": "code",
   "execution_count": 37,
   "metadata": {},
   "outputs": [
    {
     "name": "stdout",
     "output_type": "stream",
     "text": [
      "Конверсия из перехода в корзину в покупку 72.08\n"
     ]
    }
   ],
   "source": [
    "print('Конверсия из перехода в корзину в покупку', round((24880/34517)* 100, 2))"
   ]
  },
  {
   "cell_type": "markdown",
   "metadata": {},
   "source": [
    "Данные по затратам на рекламу:\n",
    "\n",
    "Яндекс – 10 491 707 руб.\n",
    "\n",
    "Гугл – 10 534 878 руб.\n",
    "\n",
    "Фейсбук – 8 590 498 руб.\n",
    "\n",
    "Инстаграм – 8 561626 руб.\n",
    "\n",
    "ВК – 9 553 531руб.\n",
    "\n",
    "Какой платный канал привлечения имеет самый высокий ROMI? "
   ]
  },
  {
   "cell_type": "code",
   "execution_count": 25,
   "metadata": {},
   "outputs": [
    {
     "data": {
      "text/plain": [
       "utm_source\n",
       "-                21449749.5\n",
       "facebook_ads     12249901.0\n",
       "google_ads       12868276.0\n",
       "instagram_ads    14546969.0\n",
       "referal           8837044.5\n",
       "vk_ads           16389652.5\n",
       "yandex-direct    13915368.0\n",
       "Name: purchase_sum, dtype: float64"
      ]
     },
     "execution_count": 25,
     "metadata": {},
     "output_type": "execute_result"
    }
   ],
   "source": [
    "df.groupby('utm_source')['purchase_sum'].sum()"
   ]
  },
  {
   "cell_type": "code",
   "execution_count": 26,
   "metadata": {},
   "outputs": [
    {
     "name": "stdout",
     "output_type": "stream",
     "text": [
      "ROMI Facebook 42.6 %\n"
     ]
    }
   ],
   "source": [
    "print('ROMI Facebook', round((12249901 / 8590498 - 1) *100, 2), \"%\")"
   ]
  },
  {
   "cell_type": "code",
   "execution_count": 27,
   "metadata": {},
   "outputs": [
    {
     "name": "stdout",
     "output_type": "stream",
     "text": [
      "ROMI Google 22.15 %\n"
     ]
    }
   ],
   "source": [
    "print('ROMI Google', round((12868276 / 10534878 - 1) *100, 2), \"%\")"
   ]
  },
  {
   "cell_type": "code",
   "execution_count": 28,
   "metadata": {},
   "outputs": [
    {
     "name": "stdout",
     "output_type": "stream",
     "text": [
      "ROMI Yandex 32.63 %\n"
     ]
    }
   ],
   "source": [
    "print('ROMI Yandex', round((13915368 / 10491707 - 1) *100, 2), \"%\")"
   ]
  },
  {
   "cell_type": "code",
   "execution_count": 29,
   "metadata": {},
   "outputs": [
    {
     "name": "stdout",
     "output_type": "stream",
     "text": [
      "ROMI Instagram 69.91 %\n"
     ]
    }
   ],
   "source": [
    "print('ROMI Instagram', round((14546969 / 8561626 - 1) *100, 2), \"%\")"
   ]
  },
  {
   "cell_type": "code",
   "execution_count": 30,
   "metadata": {},
   "outputs": [
    {
     "name": "stdout",
     "output_type": "stream",
     "text": [
      "ROMI VK 71.56 %\n"
     ]
    }
   ],
   "source": [
    "print('ROMI VK', round((16389652.5 / 9553531 - 1) *100, 2), \"%\")"
   ]
  },
  {
   "cell_type": "markdown",
   "metadata": {},
   "source": [
    "Пользователи, пришедшие с какого канала, имеют медианный первый чек выше? (учитываются только первые покупки пользователей)"
   ]
  },
  {
   "cell_type": "code",
   "execution_count": 40,
   "metadata": {},
   "outputs": [],
   "source": [
    "purchases = df[df['event'] == 'purchase'][['date', 'device_id', 'purchase_sum', 'utm_source']]\n",
    "purchases = purchases.sort_values('date').drop_duplicates('device_id')"
   ]
  },
  {
   "cell_type": "code",
   "execution_count": 42,
   "metadata": {},
   "outputs": [
    {
     "data": {
      "text/html": [
       "<div>\n",
       "<style scoped>\n",
       "    .dataframe tbody tr th:only-of-type {\n",
       "        vertical-align: middle;\n",
       "    }\n",
       "\n",
       "    .dataframe tbody tr th {\n",
       "        vertical-align: top;\n",
       "    }\n",
       "\n",
       "    .dataframe thead th {\n",
       "        text-align: right;\n",
       "    }\n",
       "</style>\n",
       "<table border=\"1\" class=\"dataframe\">\n",
       "  <thead>\n",
       "    <tr style=\"text-align: right;\">\n",
       "      <th></th>\n",
       "      <th>device_id</th>\n",
       "      <th>purchase_sum</th>\n",
       "    </tr>\n",
       "    <tr>\n",
       "      <th>utm_source</th>\n",
       "      <th></th>\n",
       "      <th></th>\n",
       "    </tr>\n",
       "  </thead>\n",
       "  <tbody>\n",
       "    <tr>\n",
       "      <th>-</th>\n",
       "      <td>10972119.0</td>\n",
       "      <td>398.5</td>\n",
       "    </tr>\n",
       "    <tr>\n",
       "      <th>facebook_ads</th>\n",
       "      <td>10844491.0</td>\n",
       "      <td>389.0</td>\n",
       "    </tr>\n",
       "    <tr>\n",
       "      <th>google_ads</th>\n",
       "      <td>11089575.0</td>\n",
       "      <td>390.5</td>\n",
       "    </tr>\n",
       "    <tr>\n",
       "      <th>instagram_ads</th>\n",
       "      <td>11096726.0</td>\n",
       "      <td>393.5</td>\n",
       "    </tr>\n",
       "    <tr>\n",
       "      <th>referal</th>\n",
       "      <td>10491527.0</td>\n",
       "      <td>395.5</td>\n",
       "    </tr>\n",
       "    <tr>\n",
       "      <th>vk_ads</th>\n",
       "      <td>11334978.0</td>\n",
       "      <td>393.0</td>\n",
       "    </tr>\n",
       "    <tr>\n",
       "      <th>yandex-direct</th>\n",
       "      <td>10969061.5</td>\n",
       "      <td>392.5</td>\n",
       "    </tr>\n",
       "  </tbody>\n",
       "</table>\n",
       "</div>"
      ],
      "text/plain": [
       "                device_id  purchase_sum\n",
       "utm_source                             \n",
       "-              10972119.0         398.5\n",
       "facebook_ads   10844491.0         389.0\n",
       "google_ads     11089575.0         390.5\n",
       "instagram_ads  11096726.0         393.5\n",
       "referal        10491527.0         395.5\n",
       "vk_ads         11334978.0         393.0\n",
       "yandex-direct  10969061.5         392.5"
      ]
     },
     "execution_count": 42,
     "metadata": {},
     "output_type": "execute_result"
    }
   ],
   "source": [
    "purchases.groupby('utm_source').median()"
   ]
  }
 ],
 "metadata": {
  "kernelspec": {
   "display_name": "Python 3",
   "language": "python",
   "name": "python3"
  },
  "language_info": {
   "codemirror_mode": {
    "name": "ipython",
    "version": 3
   },
   "file_extension": ".py",
   "mimetype": "text/x-python",
   "name": "python",
   "nbconvert_exporter": "python",
   "pygments_lexer": "ipython3",
   "version": "3.8.8"
  }
 },
 "nbformat": 4,
 "nbformat_minor": 4
}
